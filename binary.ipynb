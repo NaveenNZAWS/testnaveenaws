{
 "cells": [
  {
   "cell_type": "code",
   "execution_count": 2,
   "metadata": {},
   "outputs": [
    {
     "name": "stdout",
     "output_type": "stream",
     "text": [
      "The binary representation of 265 is: 100001001\n"
     ]
    }
   ],
   "source": [
    "#inputs\n",
    "decimal_number = int(input(\"Enter a decimal number: \"))\n",
    "\n",
    "# Converting\n",
    "binary_representation = bin(decimal_number)[2:]\n",
    "\n",
    "print(f\"The binary numbers of {decimal_number} is: {binary_representation}\")"
   ]
  }
 ],
 "metadata": {
  "kernelspec": {
   "display_name": "base",
   "language": "python",
   "name": "python3"
  },
  "language_info": {
   "codemirror_mode": {
    "name": "ipython",
    "version": 3
   },
   "file_extension": ".py",
   "mimetype": "text/x-python",
   "name": "python",
   "nbconvert_exporter": "python",
   "pygments_lexer": "ipython3",
   "version": "3.8.3"
  }
 },
 "nbformat": 4,
 "nbformat_minor": 2
}
