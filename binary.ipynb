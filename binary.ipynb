{
 "cells": [
  {
   "cell_type": "code",
   "execution_count": 1,
   "metadata": {},
   "outputs": [
    {
     "name": "stdout",
     "output_type": "stream",
     "text": [
      "The binary numbers of 123 is: 1111011\n"
     ]
    }
   ],
   "source": [
    "#inputs\n",
    "decimal_number = int(input(\"Enter a decimal number: \"))\n",
    "\n",
    "# Converting\n",
    "binary_representation = bin(decimal_number)[2:]\n",
    "\n",
    "print(f\"The binary numbers of iiiiis{decimal_number} is: {binary_representation}\")"
   ]
  }
 ],
 "metadata": {
  "kernelspec": {
   "display_name": "base",
   "language": "python",
   "name": "python3"
  },
  "language_info": {
   "codemirror_mode": {
    "name": "ipython",
    "version": 3
   },
   "file_extension": ".py",
   "mimetype": "text/x-python",
   "name": "python",
   "nbconvert_exporter": "python",
   "pygments_lexer": "ipython3",
   "version": "3.8.3"
  }
 },
 "nbformat": 4,
 "nbformat_minor": 2
}
